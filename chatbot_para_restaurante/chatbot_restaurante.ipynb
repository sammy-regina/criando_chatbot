{
 "cells": [
  {
   "cell_type": "code",
   "execution_count": null,
   "id": "bfed3c6b",
   "metadata": {},
   "outputs": [
    {
     "name": "stdout",
     "output_type": "stream",
     "text": [
      "Requirement already satisfied: flask in c:\\users\\sammy\\anaconda3\\lib\\site-packages (2.2.5)\n",
      "Requirement already satisfied: Werkzeug>=2.2.2 in c:\\users\\sammy\\anaconda3\\lib\\site-packages (from flask) (2.2.3)\n",
      "Requirement already satisfied: Jinja2>=3.0 in c:\\users\\sammy\\anaconda3\\lib\\site-packages (from flask) (3.1.3)\n",
      "Requirement already satisfied: itsdangerous>=2.0 in c:\\users\\sammy\\anaconda3\\lib\\site-packages (from flask) (2.0.1)\n",
      "Requirement already satisfied: click>=8.0 in c:\\users\\sammy\\anaconda3\\lib\\site-packages (from flask) (8.1.7)\n",
      "Requirement already satisfied: colorama in c:\\users\\sammy\\anaconda3\\lib\\site-packages (from click>=8.0->flask) (0.4.6)\n",
      "Requirement already satisfied: MarkupSafe>=2.0 in c:\\users\\sammy\\anaconda3\\lib\\site-packages (from Jinja2>=3.0->flask) (2.1.3)\n",
      "Note: you may need to restart the kernel to use updated packages.\n"
     ]
    }
   ],
   "source": [
    "#pip install flask"
   ]
  },
  {
   "cell_type": "code",
   "execution_count": 1,
   "id": "fbe095b6",
   "metadata": {},
   "outputs": [],
   "source": [
    "# Importa as bibliotecas necessárias\n",
    "from flask import Flask, render_template, request, jsonify\n",
    "import sqlite3\n",
    "\n",
    "# Cria uma instância do aplicativo Flask\n",
    "aplicativo = Flask(__name__)"
   ]
  },
  {
   "cell_type": "code",
   "execution_count": null,
   "id": "0b587266",
   "metadata": {},
   "outputs": [],
   "source": [
    "# Dados do cardápio (poderia vir de um banco de dados)\n",
    "cardapio = {\n",
    "    1: {\"nome\": \"Hambúrguer Clássico\", \"preco\": 25.00},\n",
    "    2: {\"nome\": \"Pizza Margherita\", \"preco\": 35.00},\n",
    "    3: {\"nome\": \"Salada Caesar\", \"preco\": 20.00},\n",
    "    4: {\"nome\": \"Batata Frita\", \"preco\": 12.00},\n",
    "    5: {\"nome\": \"Refrigerante\", \"preco\": 5.00}\n",
    "}\n",
    "\n",
    "# Promoções atuais\n",
    "promocoes = [\"Na compra de 2 hambúrgueres, ganhe uma porção de batata frita!\", \"Pizza Margherita com 10% de desconto hoje!\"]\n",
    "\n",
    "# Histórico de conversas (para manter o contexto, opcional para este exemplo básico)\n",
    "historico_conversas = {}\n",
    "\n",
    "def responder(mensagem_usuario, id_usuario=\"guest\"):\n",
    "    \"\"\"Função principal para gerar a resposta do chatbot.\"\"\"\n",
    "    mensagem_usuario = mensagem_usuario.lower()\n",
    "\n",
    "    if id_usuario not in historico_conversas:\n",
    "        historico_conversas[id_usuario] = []\n",
    "\n",
    "    historico_conversas[id_usuario].append({\"usuario\": mensagem_usuario})\n",
    "\n",
    "    if \"cardápio\" in mensagem_usuario:\n",
    "        resposta = \"Nosso cardápio:\\n\"\n",
    "        for numero, item in cardapio.items():\n",
    "            resposta += f\"{numero}. {item['nome']} - R$ {item['preco']:.2f}\\n\"\n",
    "    elif \"pedir\" in mensagem_usuario:\n",
    "        resposta = \"Para fazer um pedido, digite o número dos itens desejados separados por vírgula (ex: 1, 3).\"\n",
    "    elif any(str(numero) in mensagem_usuario for numero in cardapio):\n",
    "        itens_pedido = []\n",
    "        numeros_digitados = [int(s) for s in mensagem_usuario.split() if s.isdigit()]\n",
    "        for numero in numeros_digitados:\n",
    "            if numero in cardapio:\n",
    "                itens_pedido.append(cardapio[numero]['nome'])\n",
    "        if itens_pedido:\n",
    "            resposta = f\"Você adicionou ao seu pedido: {', '.join(itens_pedido)}. Algo mais?\"\n",
    "        else:\n",
    "            resposta = \"Desculpe, não entendi os itens do seu pedido. Por favor, digite os números corretamente.\"\n",
    "    elif \"promoções\" in mensagem_usuario:\n",
    "        if promocoes:\n",
    "            resposta = \"Nossas promoções de hoje são:\\n\" + \"\\n\".join(f\"- {promo}\" for promo in promocoes)\n",
    "        else:\n",
    "            resposta = \"No momento, não temos promoções.\"\n",
    "    elif \"olá\" in mensagem_usuario or \"oi\" in mensagem_usuario or \"bom dia\" in mensagem_usuario or \"boa tarde\" in mensagem_usuario or \"boa noite\" in mensagem_usuario:\n",
    "        resposta = \"Olá! Bem-vindo ao nosso restaurante. Como posso ajudar hoje?\\n\\nDigite o número da opção desejada:\\n1. Ver Cardápio\\n2. Fazer um Pedido\\n3. Ver Promoções\"\n",
    "    else:\n",
    "        resposta = \"Desculpe, não entendi sua pergunta. Posso te ajudar com o cardápio, fazer um pedido ou informar sobre as promoções.\"\n",
    "\n",
    "    historico_conversas[id_usuario].append({\"chatbot\": resposta})\n",
    "    return resposta\n",
    "\n",
    "@app.route(\"/\")\n",
    "def index():\n",
    "    \"\"\"Rota principal para exibir a página web com o chatbot.\"\"\"\n",
    "    return render_template(\"index.html\")\n",
    "\n",
    "@app.route(\"/chatbot\", methods=[\"POST\"])\n",
    "def chatbot():\n",
    "    \"\"\"Rota para receber a mensagem do usuário e retornar a resposta do chatbot.\"\"\"\n",
    "    mensagem = request.form[\"mensagem\"]\n",
    "    resposta = responder(mensagem)\n",
    "    return jsonify({\"resposta\": resposta})\n",
    "\n",
    "if __name__ == \"__main__\":\n",
    "    app.run(debug=True)"
   ]
  }
 ],
 "metadata": {
  "kernelspec": {
   "display_name": "base",
   "language": "python",
   "name": "python3"
  },
  "language_info": {
   "codemirror_mode": {
    "name": "ipython",
    "version": 3
   },
   "file_extension": ".py",
   "mimetype": "text/x-python",
   "name": "python",
   "nbconvert_exporter": "python",
   "pygments_lexer": "ipython3",
   "version": "3.11.7"
  }
 },
 "nbformat": 4,
 "nbformat_minor": 5
}
